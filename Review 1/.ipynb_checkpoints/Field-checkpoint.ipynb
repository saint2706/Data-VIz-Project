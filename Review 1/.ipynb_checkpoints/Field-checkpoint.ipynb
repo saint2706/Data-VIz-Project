{
 "cells": [
  {
   "cell_type": "markdown",
   "metadata": {},
   "source": [
    "Import Modules"
   ]
  },
  {
   "cell_type": "code",
   "execution_count": 61,
   "metadata": {},
   "outputs": [],
   "source": [
    "import warnings"
   ]
  },
  {
   "cell_type": "code",
   "execution_count": null,
   "metadata": {
    "pycharm": {
     "is_executing": true
    }
   },
   "outputs": [],
   "source": [
    "import matplotlib.pyplot as plt\n",
    "import numpy as np\n",
    "import pandas as pd\n",
    "import plotly.graph_objects as go\n",
    "import scipy as sp\n",
    "import seaborn as sns\n",
    "from PIL import Image\n",
    "from plotly.subplots import make_subplots\n",
    "from scipy import stats"
   ]
  },
  {
   "cell_type": "code",
   "execution_count": null,
   "metadata": {
    "pycharm": {
     "is_executing": true
    }
   },
   "outputs": [],
   "source": [
    "warnings.filterwarnings(\"ignore\")"
   ]
  },
  {
   "cell_type": "markdown",
   "metadata": {},
   "source": [
    "Read FIFA 19 dataset and show info and describe columns from it."
   ]
  },
  {
   "cell_type": "code",
   "execution_count": null,
   "metadata": {
    "pycharm": {
     "is_executing": true
    }
   },
   "outputs": [],
   "source": [
    "df = pd.read_csv(r\"..\\Datasets\\data.csv\", index_col=\"Unnamed: 0\")\n",
    "print(df.head())\n",
    "# get column names.\n",
    "col = df.columns\n",
    "print(col)\n",
    "# dimensions of data\n",
    "print(df.shape)\n",
    "# info for all dataset columns_name, dataType, null_count\n",
    "print(df.info())\n",
    "# description of data min, max, mean, std values for all columns\n",
    "print(df.describe())\n",
    "# count number of rows that have null value in every columns.\n",
    "print(df.isnull().sum())"
   ]
  },
  {
   "cell_type": "markdown",
   "metadata": {},
   "source": [
    "Data Visualisation"
   ]
  },
  {
   "cell_type": "markdown",
   "metadata": {},
   "source": [
    "Calculate top 10 countries sorted by most players in the game<br>\n",
    "group data by Nationality and sort it by number of players to get most countries having players."
   ]
  },
  {
   "cell_type": "code",
   "execution_count": null,
   "metadata": {
    "pycharm": {
     "is_executing": true
    }
   },
   "outputs": [],
   "source": [
    "national_players = (\n",
    "    df[[\"Nationality\", \"ID\"]]\n",
    "    .groupby(by=[\"Nationality\"], as_index=False)\n",
    "    .count()\n",
    "    .sort_values(\"ID\", ascending=False)\n",
    ")\n",
    "national_players.rename(\n",
    "    columns={\"Nationality\": \"country\", \"ID\": \"player_count\"}, inplace=True\n",
    ")\n",
    "national_players = national_players.reset_index()\n",
    "national_players = national_players.drop([\"index\"], axis=1)\n",
    "national_players.head(10)"
   ]
  },
  {
   "cell_type": "markdown",
   "metadata": {},
   "source": [
    "Slicing first 10 rows from country player_count dataset"
   ]
  },
  {
   "cell_type": "code",
   "execution_count": null,
   "metadata": {
    "pycharm": {
     "is_executing": true
    }
   },
   "outputs": [],
   "source": [
    "player_count = national_players.iloc[0:10, 1]\n",
    "nation = national_players.iloc[0:10, 0]"
   ]
  },
  {
   "cell_type": "markdown",
   "metadata": {},
   "source": [
    "select seaborn style of chart to make display easy on the eyes."
   ]
  },
  {
   "cell_type": "code",
   "execution_count": null,
   "metadata": {
    "pycharm": {
     "is_executing": true
    }
   },
   "outputs": [],
   "source": [
    "plt.style.use(\"seaborn\")\n",
    "# create bar chart\n",
    "plt.bar(nation, player_count)\n",
    "plt.xticks(rotation=45)\n",
    "plt.title(\"Top 10 Countries that have players in FIFA 19\")\n",
    "plt.show()"
   ]
  },
  {
   "cell_type": "markdown",
   "metadata": {},
   "source": [
    "Show Distribution of Age for all players<br>\n",
    "slicing Age column and group it and count no. of players that have same age for all ages."
   ]
  },
  {
   "cell_type": "code",
   "execution_count": null,
   "metadata": {
    "pycharm": {
     "is_executing": true
    }
   },
   "outputs": [],
   "source": [
    "player_ages = (\n",
    "    df[[\"Age\", \"ID\"]]\n",
    "    .groupby(by=[\"Age\"], as_index=False)\n",
    "    .count()\n",
    "    .sort_values(\"ID\", ascending=False)\n",
    ")\n",
    "player_ages.rename(columns={\"ID\": \"count\"}, inplace=True)\n",
    "player_ages = player_ages.reset_index().drop([\"index\"], axis=1)\n",
    "player_ages.head()"
   ]
  },
  {
   "cell_type": "markdown",
   "metadata": {},
   "source": [
    "display histogram of age for all players and fit a normal distribution line for it."
   ]
  },
  {
   "cell_type": "code",
   "execution_count": null,
   "metadata": {
    "pycharm": {
     "is_executing": true
    }
   },
   "outputs": [],
   "source": [
    "_, bins, _ = plt.hist(\n",
    "    df.Age, bins=df.Age.max() - df.Age.min(), label=\"Age with no. of player\"\n",
    ")\n",
    "mu, sigma = sp.stats.norm.fit(df.Age)\n",
    "best_fit_line = sp.stats.norm.pdf(bins, mu, sigma)\n",
    "plt.plot(bins, df.shape[0] * best_fit_line, label=\"fit_line\", color=\"red\")\n",
    "plt.title(\"Distribution of Age of players in FIFA 19\")\n",
    "plt.ylabel(\"Number of players\")\n",
    "plt.xlabel(\"Age of players\")\n",
    "plt.legend()\n",
    "plt.show()\n"
   ]
  },
  {
   "cell_type": "markdown",
   "metadata": {},
   "source": [
    "Preferred foot analysis.<br>\n",
    "count number of left and right foot preferred players"
   ]
  },
  {
   "cell_type": "code",
   "execution_count": null,
   "metadata": {
    "pycharm": {
     "is_executing": true
    }
   },
   "outputs": [],
   "source": [
    "preferred_foot = df.groupby(\"Preferred Foot\")[\"Preferred Foot\"].count()\n",
    "print(preferred_foot)"
   ]
  },
  {
   "cell_type": "markdown",
   "metadata": {},
   "source": [
    "plot pie chart to display the percentage for the preferred foot"
   ]
  },
  {
   "cell_type": "code",
   "execution_count": null,
   "metadata": {
    "pycharm": {
     "is_executing": true
    }
   },
   "outputs": [],
   "source": [
    "plt.pie(\n",
    "    preferred_foot,\n",
    "    labels=[\"left\", \"right\"],\n",
    "    explode=[0.1, 0],\n",
    "    autopct=\"%1.2f%%\",\n",
    "    colors=[\"#ea157a\", \"#0089af\"],\n",
    ")\n",
    "plt.legend()\n",
    "plt.show()"
   ]
  },
  {
   "cell_type": "markdown",
   "metadata": {},
   "source": [
    "Show positions with the most number of players<br>\n",
    "count number of players for every position in playground that have players and sort it."
   ]
  },
  {
   "cell_type": "code",
   "execution_count": null,
   "metadata": {
    "pycharm": {
     "is_executing": true
    }
   },
   "outputs": [],
   "source": [
    "player_position = (\n",
    "    df[[\"Position\", \"ID\"]]\n",
    "    .groupby(by=[\"Position\"], as_index=False)\n",
    "    .count()\n",
    "    .sort_values(\"ID\", ascending=False)\n",
    ")\n",
    "player_position.rename(columns={\"ID\": \"count\"}, inplace=True)\n",
    "player_position = player_position.reset_index().drop([\"index\"], axis=1)\n",
    "player_position.head()"
   ]
  },
  {
   "cell_type": "markdown",
   "metadata": {},
   "source": [
    "plot bar chart to display the number of players for every position."
   ]
  },
  {
   "cell_type": "code",
   "execution_count": null,
   "metadata": {
    "pycharm": {
     "is_executing": true
    }
   },
   "outputs": [],
   "source": [
    "plt.figure(figsize=(15, 7))\n",
    "plt.bar(player_position[\"Position\"], player_position[\"count\"])\n",
    "plt.xticks(rotation=70)\n",
    "plt.title(\"Player's Position Distribution\", color=\"black\")\n",
    "plt.show()"
   ]
  },
  {
   "cell_type": "markdown",
   "metadata": {},
   "source": [
    "Top 10 players for ST, GK, LW, RF Position"
   ]
  },
  {
   "cell_type": "code",
   "execution_count": null,
   "metadata": {
    "pycharm": {
     "is_executing": true
    }
   },
   "outputs": [],
   "source": [
    "ST_position = df[df[\"Position\"] == \"ST\"].sort_values(\"Overall\", ascending=False)[\n",
    "    [\"Name\", \"Overall\"]\n",
    "]\n",
    "ST_position = ST_position.iloc[:10, :]"
   ]
  },
  {
   "cell_type": "code",
   "execution_count": null,
   "metadata": {
    "pycharm": {
     "is_executing": true
    }
   },
   "outputs": [],
   "source": [
    "GK_position = df[df[\"Position\"] == \"GK\"].sort_values(\"Overall\", ascending=False)[\n",
    "    [\"Name\", \"Overall\"]\n",
    "]\n",
    "GK_position = GK_position.iloc[:10, :]"
   ]
  },
  {
   "cell_type": "code",
   "execution_count": null,
   "metadata": {
    "pycharm": {
     "is_executing": true
    }
   },
   "outputs": [],
   "source": [
    "LW_position = df[df[\"Position\"] == \"LW\"].sort_values(\"Overall\", ascending=False)[\n",
    "    [\"Name\", \"Overall\"]\n",
    "]\n",
    "LW_position = LW_position.iloc[:10, :]"
   ]
  },
  {
   "cell_type": "code",
   "execution_count": null,
   "metadata": {
    "pycharm": {
     "is_executing": true
    }
   },
   "outputs": [],
   "source": [
    "RF_position = df[df[\"Position\"] == \"RF\"].sort_values(\"Overall\", ascending=False)[\n",
    "    [\"Name\", \"Overall\"]\n",
    "]\n",
    "RF_position = RF_position.iloc[:10, :]"
   ]
  },
  {
   "cell_type": "markdown",
   "metadata": {},
   "source": [
    "function to plot bar chart for top 10 players in selected positions."
   ]
  },
  {
   "cell_type": "code",
   "execution_count": null,
   "metadata": {
    "pycharm": {
     "is_executing": true
    }
   },
   "outputs": [],
   "source": [
    "def draw(df, color, position, ax):\n",
    "    plt.style.use(\"tableau-colorblind10\")\n",
    "    sns.barplot(df[\"Name\"], df[\"Overall\"], color=color, ax=ax).set_title(\n",
    "        \"Top 10 \" + position + \" players\", fontsize=14\n",
    "    )\n",
    "    ax.set_xticklabels(ax.get_xticklabels(), rotation=40)"
   ]
  },
  {
   "cell_type": "markdown",
   "metadata": {},
   "source": [
    "plot 4 figures that display Top 10 players in ST, GK, LW, RF positions."
   ]
  },
  {
   "cell_type": "code",
   "execution_count": null,
   "metadata": {
    "pycharm": {
     "is_executing": true
    }
   },
   "outputs": [],
   "source": [
    "fig, axes = plt.subplots(nrows=2, ncols=2, figsize=[30, 30])\n",
    "draw(GK_position, \"#e91e63\", \"GK\", axes[0, 0])\n",
    "draw(ST_position, \"#0089af\", \"ST\", axes[0, 1])\n",
    "draw(LW_position, \"#1ab39f\", \"LW\", axes[1, 0])\n",
    "draw(RF_position, \"#72bd35\", \"RF\", axes[1, 1])\n",
    "plt.show()\n"
   ]
  },
  {
   "cell_type": "markdown",
   "metadata": {},
   "source": [
    "Distribution of all player's value and calculate The average value of players.<br>\n",
    "function that converts value column of players to numeric."
   ]
  },
  {
   "cell_type": "code",
   "execution_count": null,
   "metadata": {
    "pycharm": {
     "is_executing": true
    }
   },
   "outputs": [],
   "source": [
    "def getValue(df):\n",
    "    new = []\n",
    "    for i in df:\n",
    "        i = i.strip(\"€\")\n",
    "        if \"K\" in i:\n",
    "            i = i.strip(\"K\")\n",
    "            new.append(float(i) * 1000)\n",
    "        elif \"M\" in i:\n",
    "            i = i.strip(\"M\")\n",
    "            new.append(float(i) * (10 ** 6))\n",
    "        else:\n",
    "            new.append(0.0)\n",
    "    return new"
   ]
  },
  {
   "cell_type": "markdown",
   "metadata": {},
   "source": [
    "convert value columns to numeric and calculate the average value."
   ]
  },
  {
   "cell_type": "code",
   "execution_count": null,
   "metadata": {
    "pycharm": {
     "is_executing": true
    }
   },
   "outputs": [],
   "source": [
    "lis = getValue(df.Value.values)\n",
    "print(\n",
    "    \"The average value of players in the world = \",\n",
    "    round(np.average(np.array(lis)) / 10 ** 6, 2),\n",
    "    \"M\",\n",
    ")"
   ]
  },
  {
   "cell_type": "markdown",
   "metadata": {},
   "source": [
    "plot histogram of values to show distribution of it."
   ]
  },
  {
   "cell_type": "code",
   "execution_count": null,
   "metadata": {
    "pycharm": {
     "is_executing": true
    }
   },
   "outputs": [],
   "source": [
    "plt.hist(lis, bins=100)\n",
    "plt.show()"
   ]
  },
  {
   "cell_type": "code",
   "execution_count": null,
   "metadata": {
    "pycharm": {
     "is_executing": true
    }
   },
   "outputs": [],
   "source": [
    "sns.boxplot(x=getValue(df.Value.values))\n",
    "plt.show()"
   ]
  },
  {
   "cell_type": "markdown",
   "metadata": {},
   "source": [
    "Overall rating distribution and most fit line for it.<br>\n",
    "plot the distribution of overall rating."
   ]
  },
  {
   "cell_type": "code",
   "execution_count": null,
   "metadata": {
    "pycharm": {
     "is_executing": true
    }
   },
   "outputs": [],
   "source": [
    "plt.figure(figsize=(15, 7))\n",
    "sns.countplot(df.Overall, label=\"overall_hist\", color=\"#c81067\")\n",
    "plt.title(\"Overall rating distribution for all Players\")\n",
    "plt.legend()\n",
    "plt.show()"
   ]
  },
  {
   "cell_type": "markdown",
   "metadata": {},
   "source": [
    "plot the distribution of overall rating and get most fit line for it."
   ]
  },
  {
   "cell_type": "code",
   "execution_count": null,
   "metadata": {
    "pycharm": {
     "is_executing": true
    }
   },
   "outputs": [],
   "source": [
    "_, bins, _ = plt.hist(\n",
    "    df.Overall,\n",
    "    bins=(df.Overall.max() - df.Overall.min()),\n",
    "    label=\"overall_hist\",\n",
    "    color=\"#0093bc\",\n",
    ")\n",
    "mu, sigma = sp.stats.norm.fit(df.Overall)\n",
    "best_fit_line = sp.stats.norm.pdf(bins, mu, sigma)\n",
    "plt.plot(bins, df.shape[0] * best_fit_line, label=\"fit_line\", color=\"red\")\n",
    "plt.title(\"Overall ratings histogram\")\n",
    "plt.legend()\n",
    "plt.show()"
   ]
  },
  {
   "cell_type": "markdown",
   "metadata": {},
   "source": [
    "Make Analysis for Real Madrid Club.<br>\n",
    "select Real Madrid player from data"
   ]
  },
  {
   "cell_type": "code",
   "execution_count": null,
   "metadata": {
    "pycharm": {
     "is_executing": true
    }
   },
   "outputs": [],
   "source": [
    "real_Madrid_players = df[df.Club == \"Real Madrid\"]\n",
    "real_Madrid_players = real_Madrid_players[\n",
    "    [\"Name\", \"Age\", \"Nationality\", \"Value\", \"Release Clause\", \"Overall\"]\n",
    "]\n",
    "real_Madrid_players.rename(columns={\"Release Clause\": \"Release\"}, inplace=True)"
   ]
  },
  {
   "cell_type": "markdown",
   "metadata": {},
   "source": [
    "convert value column to numeric."
   ]
  },
  {
   "cell_type": "code",
   "execution_count": null,
   "metadata": {
    "pycharm": {
     "is_executing": true
    }
   },
   "outputs": [],
   "source": [
    "real_Madrid_players.Release = getValue(real_Madrid_players.Release)"
   ]
  },
  {
   "cell_type": "markdown",
   "metadata": {},
   "source": [
    "sort them by Release column."
   ]
  },
  {
   "cell_type": "code",
   "execution_count": null,
   "metadata": {
    "pycharm": {
     "is_executing": true
    }
   },
   "outputs": [],
   "source": [
    "real_Madrid_players.sort_values(\"Release\", inplace=True, ascending=False)\n",
    "real_Madrid_players = real_Madrid_players.reset_index()\n",
    "real_Madrid_players.drop(\"index\", axis=1, inplace=True)\n",
    "real_Madrid_players.head(10)"
   ]
  },
  {
   "cell_type": "code",
   "execution_count": null,
   "metadata": {
    "pycharm": {
     "is_executing": true
    }
   },
   "outputs": [],
   "source": [
    "print(\n",
    "    \"Overall mean value for Real Madrid Team = \",\n",
    "    round(real_Madrid_players.Overall.mean()),\n",
    "    \"%\",\n",
    ")"
   ]
  },
  {
   "cell_type": "code",
   "execution_count": null,
   "metadata": {
    "pycharm": {
     "is_executing": true
    }
   },
   "outputs": [],
   "source": [
    "print(\n",
    "    \"Release Corr. Overall= \",\n",
    "    round(real_Madrid_players.Release.corr(real_Madrid_players.Overall), 2),\n",
    ")"
   ]
  },
  {
   "cell_type": "markdown",
   "metadata": {},
   "source": [
    "plot chart for Release Values."
   ]
  },
  {
   "cell_type": "code",
   "execution_count": null,
   "metadata": {
    "pycharm": {
     "is_executing": true
    }
   },
   "outputs": [],
   "source": [
    "plt.figure(figsize=(14, 8))\n",
    "plt.bar(\n",
    "    real_Madrid_players.Name[:20],\n",
    "    real_Madrid_players.Release[:20],\n",
    "    width=0.8,\n",
    "    label=\"Player Vs Value\",\n",
    ")\n",
    "plt.title(\"Real Madrid Release Values\")\n",
    "plt.xticks(rotation=40)\n",
    "plt.xlabel(\"player name\")\n",
    "plt.ylabel(\"value\")\n",
    "plt.legend()\n",
    "plt.show()"
   ]
  },
  {
   "cell_type": "markdown",
   "metadata": {},
   "source": [
    "Calculate the relation between weight and height for all players(corr. and distribution)<br>\n",
    "function that convert weight to numeric."
   ]
  },
  {
   "cell_type": "code",
   "execution_count": null,
   "metadata": {
    "pycharm": {
     "is_executing": true
    }
   },
   "outputs": [],
   "source": [
    "def get_weight(weight):\n",
    "    new = []\n",
    "    for i in weight:\n",
    "        if \"lbs\" in str(i):\n",
    "            new.append(i.strip(\"lbs\"))\n",
    "    return new"
   ]
  },
  {
   "cell_type": "markdown",
   "metadata": {},
   "source": [
    "function that convert height to numeric."
   ]
  },
  {
   "cell_type": "code",
   "execution_count": null,
   "metadata": {
    "pycharm": {
     "is_executing": true
    }
   },
   "outputs": [],
   "source": [
    "def get_height(height):\n",
    "    new = []\n",
    "    for i in height:\n",
    "        if \"'\" in str(i):\n",
    "            new.append(i.replace(\"'\", \".\"))\n",
    "    return new"
   ]
  },
  {
   "cell_type": "markdown",
   "metadata": {},
   "source": [
    "drop nan values form weight and height columns and convert it to numeric."
   ]
  },
  {
   "cell_type": "code",
   "execution_count": null,
   "metadata": {
    "pycharm": {
     "is_executing": true
    }
   },
   "outputs": [],
   "source": [
    "weight_height = df[[\"Weight\", \"Height\"]].dropna(how=\"any\")\n",
    "weight_height.Weight = get_weight(list(weight_height.Weight.values))\n",
    "weight_height.Height = get_height(list(weight_height.Height.values))"
   ]
  },
  {
   "cell_type": "markdown",
   "metadata": {},
   "source": [
    "plot scatter for  weight column."
   ]
  },
  {
   "cell_type": "code",
   "execution_count": null,
   "metadata": {
    "pycharm": {
     "is_executing": true
    }
   },
   "outputs": [],
   "source": [
    "weight_height.sort_values(\"Weight\", ascending=True, inplace=True)\n",
    "plt.figure(figsize=(15, 10))\n",
    "plt.scatter(weight_height.Weight, weight_height.Height)\n",
    "plt.xticks(rotation=40)\n",
    "plt.show()"
   ]
  },
  {
   "cell_type": "code",
   "execution_count": null,
   "metadata": {
    "pycharm": {
     "is_executing": true
    }
   },
   "outputs": [],
   "source": [
    "weight_height.Weight = weight_height.Weight.astype(\"float64\")\n",
    "weight_height.Height = weight_height.Height.astype(\"float64\")\n",
    "print(\n",
    "    \"correlation between Weight and Height of players=\",\n",
    "    round(weight_height.Weight.corr(weight_height.Height), 2),\n",
    ")"
   ]
  },
  {
   "cell_type": "markdown",
   "metadata": {},
   "source": [
    "plot the distribution of weight."
   ]
  },
  {
   "cell_type": "code",
   "execution_count": null,
   "metadata": {
    "pycharm": {
     "is_executing": true
    }
   },
   "outputs": [],
   "source": [
    "plt.hist(weight_height.Weight, bins=40)\n",
    "plt.show()"
   ]
  },
  {
   "cell_type": "markdown",
   "metadata": {},
   "source": [
    "plot distribution of Height columns."
   ]
  },
  {
   "cell_type": "code",
   "execution_count": null,
   "metadata": {
    "pycharm": {
     "is_executing": true
    }
   },
   "outputs": [],
   "source": [
    "plt.hist(weight_height.Height, bins=40)\n",
    "plt.show()\n",
    "stats.mode(weight_height.Height)\n",
    "print(weight_height.Height.shape)"
   ]
  },
  {
   "cell_type": "markdown",
   "metadata": {},
   "source": [
    "Top 10 expensive teams in the world<br>\n",
    "drop nan from needed columns and group by Clubs and sort it by sum op player values."
   ]
  },
  {
   "cell_type": "code",
   "execution_count": null,
   "metadata": {
    "pycharm": {
     "is_executing": true
    }
   },
   "outputs": [],
   "source": [
    "club_value_df = df[[\"Club\", \"Release Clause\"]].dropna(how=\"any\")\n",
    "club_value_df.columns = [\"club\", \"value\"]\n",
    "club_value_df.value = getValue(club_value_df.value)\n",
    "club_value_df = (\n",
    "    club_value_df.groupby(by=[\"club\"], as_index=False)\n",
    "    .sum()\n",
    "    .sort_values(by=\"value\", ascending=False)\n",
    ")\n",
    "club_value_df.reset_index().drop(\"index\", axis=1).head(10)"
   ]
  },
  {
   "cell_type": "markdown",
   "metadata": {},
   "source": [
    "plot most 10 team have expensive players."
   ]
  },
  {
   "cell_type": "code",
   "execution_count": null,
   "metadata": {
    "pycharm": {
     "is_executing": true
    }
   },
   "outputs": [],
   "source": [
    "plt.figure(figsize=(12, 7))\n",
    "plt.style.use(\"seaborn\")\n",
    "plt.bar(club_value_df.club[:10],\n",
    "        club_value_df.value[:10], label=\"club with value\")\n",
    "plt.title(\"Top 10 most expensive teams in the world\", fontsize=15)\n",
    "plt.xlabel(\"Teams\")\n",
    "plt.ylabel(\"Value\")\n",
    "plt.xticks(rotation=40)\n",
    "plt.legend()\n",
    "plt.show()"
   ]
  },
  {
   "cell_type": "markdown",
   "metadata": {},
   "source": [
    "Calculate ATTRIBUTE DETAILS for any player you want.<br>\n",
    "attribute dictionary key attribute and values skills columns for every attribute."
   ]
  },
  {
   "cell_type": "code",
   "execution_count": null,
   "metadata": {
    "pycharm": {
     "is_executing": true
    }
   },
   "outputs": [],
   "source": [
    "attribute_dict = {\n",
    "    \"shooting\": [\n",
    "        \"Positioning\",\n",
    "        \"Finishing\",\n",
    "        \"ShotPower\",\n",
    "        \"LongShots\",\n",
    "        \"Volleys\",\n",
    "        \"Penalties\",\n",
    "    ],\n",
    "    \"passing\": [\n",
    "        \"Vision\",\n",
    "        \"Crossing\",\n",
    "        \"FKAccuracy\",\n",
    "        \"ShortPassing\",\n",
    "        \"LongPassing\",\n",
    "        \"Curve\",\n",
    "    ],\n",
    "    \"dribbling\": [\n",
    "        \"Agility\",\n",
    "        \"Balance\",\n",
    "        \"Reactions\",\n",
    "        \"BallControl\",\n",
    "        \"Dribbling\",\n",
    "        \"Composure\",\n",
    "    ],\n",
    "    \"defending\": [\n",
    "        \"Interceptions\",\n",
    "        \"HeadingAccuracy\",\n",
    "        \"Marking\",\n",
    "        \"StandingTackle\",\n",
    "        \"SlidingTackle\",\n",
    "    ],\n",
    "    \"physical\": [\"Jumping\", \"Stamina\", \"Strength\", \"Aggression\"],\n",
    "}"
   ]
  },
  {
   "cell_type": "markdown",
   "metadata": {},
   "source": [
    "function that calculate attribute for any player: need using player index"
   ]
  },
  {
   "cell_type": "code",
   "execution_count": null,
   "metadata": {
    "pycharm": {
     "is_executing": true
    }
   },
   "outputs": [],
   "source": [
    "def calculate_attribute(dataframe, player_index):\n",
    "    allcols = []\n",
    "    for i in attribute_dict.values():\n",
    "        allcols.extend(i)\n",
    "    player_observation = dataframe.loc[player_index, allcols].astype(\"int64\")\n",
    "    player_skills = []\n",
    "    for i in attribute_dict.keys():\n",
    "        lis = attribute_dict.get(i)\n",
    "        player_skills.append(\n",
    "            int(sum(player_observation[lis]) / len(player_observation[lis]))\n",
    "        )\n",
    "    return {\n",
    "        i.upper() + \": \" + str(j) + \"%\": j\n",
    "        for i, j in zip(attribute_dict.keys(), player_skills)\n",
    "    }"
   ]
  },
  {
   "cell_type": "markdown",
   "metadata": {},
   "source": [
    "function get skills values for any attribute."
   ]
  },
  {
   "cell_type": "code",
   "execution_count": null,
   "metadata": {
    "pycharm": {
     "is_executing": true
    }
   },
   "outputs": [],
   "source": [
    "def get_attributes_values(attribute, observation):\n",
    "    return observation.loc[attribute_dict.get(attribute)].astype(\"int64\")"
   ]
  },
  {
   "cell_type": "markdown",
   "metadata": {},
   "source": [
    "function that plot player attribute: need index of player skills."
   ]
  },
  {
   "cell_type": "code",
   "execution_count": null,
   "metadata": {
    "pycharm": {
     "is_executing": true
    }
   },
   "outputs": [],
   "source": [
    "def plot_player_attribute(player_index, observation, skills):\n",
    "    colors = [\"#03a309\", \"#a3037e\", \"#fd3689\", \"#ded118\", \"#474bc9\"]\n",
    "    go.Figure()\n",
    "    fig = make_subplots(rows=1, cols=5)\n",
    "    # create skills bar chart\n",
    "    for key, skill_name, color_i, column in zip(\n",
    "        attribute_dict.keys(), skills, colors, range(1, 6)\n",
    "    ):\n",
    "        values = get_attributes_values(key, observation)\n",
    "        fig.add_trace(\n",
    "            go.Bar(\n",
    "                x=values,\n",
    "                y=attribute_dict.get(key),\n",
    "                name=skill_name,\n",
    "                marker=go.bar.Marker(\n",
    "                    color=color_i, line=dict(color=\"#454545\", width=1)\n",
    "                ),\n",
    "                orientation=\"h\",\n",
    "                width=0.5,\n",
    "                text=values,\n",
    "                textposition=\"auto\",\n",
    "            ),\n",
    "            row=1,\n",
    "            col=column,\n",
    "        )\n",
    "\n",
    "    # read image\n",
    "    img = Image.open(r\"..\\faces/\" + str(player_index) + \".png\")\n",
    "    # Add image\n",
    "    fig.add_layout_image(\n",
    "        dict(\n",
    "            source=img,\n",
    "            xref=\"paper\",\n",
    "            yref=\"paper\",\n",
    "            x=1,\n",
    "            y=1.5,\n",
    "            sizex=0.5,\n",
    "            sizey=0.5,\n",
    "            xanchor=\"right\",\n",
    "            yanchor=\"top\",\n",
    "        )\n",
    "    )\n",
    "    # update layout properties\n",
    "    fig.update_layout(\n",
    "        autosize=False,\n",
    "        height=300,\n",
    "        width=2300,\n",
    "        bargap=0.5,\n",
    "        bargroupgap=0.3,\n",
    "        barmode=\"overlay\",\n",
    "        hovermode=\"x\",\n",
    "        margin=dict(r=0, l=0, b=0, t=100),\n",
    "        title=(\n",
    "            {\n",
    "                \"text\": observation[\"Name\"] + \" ATTRIBUTE DETAILS\",\n",
    "                \"y\": 0.9,\n",
    "                \"x\": 0.5,\n",
    "                \"xanchor\": \"right\",\n",
    "                \"yanchor\": \"top\",\n",
    "            }\n",
    "        ),\n",
    "    )\n",
    "    fig.update_xaxes(range=[0, 100])\n",
    "    fig.show()"
   ]
  },
  {
   "cell_type": "markdown",
   "metadata": {},
   "source": [
    "Player Attributes select player index form dataset<br>\n",
    "draw attribute details for MESSI."
   ]
  },
  {
   "cell_type": "code",
   "execution_count": null,
   "metadata": {
    "pycharm": {
     "is_executing": true
    }
   },
   "outputs": [],
   "source": [
    "player_index = 0\n",
    "player_skills = calculate_attribute(df, player_index)\n",
    "plot_player_attribute(\n",
    "    player_index, df.iloc[player_index], list(player_skills.keys()))"
   ]
  },
  {
   "cell_type": "markdown",
   "metadata": {},
   "source": [
    "draw attribute details for RONALDO."
   ]
  },
  {
   "cell_type": "code",
   "execution_count": null,
   "metadata": {
    "pycharm": {
     "is_executing": true
    }
   },
   "outputs": [],
   "source": [
    "player_index = 1\n",
    "player_skills = calculate_attribute(df, player_index)\n",
    "plot_player_attribute(\n",
    "    player_index, df.iloc[player_index], list(player_skills.keys()))"
   ]
  },
  {
   "cell_type": "markdown",
   "metadata": {},
   "source": [
    "draw attribute details for Neymar Jr"
   ]
  },
  {
   "cell_type": "code",
   "execution_count": null,
   "metadata": {
    "pycharm": {
     "is_executing": true
    }
   },
   "outputs": [],
   "source": [
    "player_index = 2\n",
    "player_skills = calculate_attribute(df, player_index)\n",
    "plot_player_attribute(\n",
    "    player_index, df.iloc[player_index], list(player_skills.keys()))"
   ]
  },
  {
   "cell_type": "markdown",
   "metadata": {},
   "source": [
    "draw attribute details for M.SALAH."
   ]
  },
  {
   "cell_type": "code",
   "execution_count": null,
   "metadata": {
    "pycharm": {
     "is_executing": true
    }
   },
   "outputs": [],
   "source": [
    "player_index = 26\n",
    "player_skills = calculate_attribute(df, player_index)\n",
    "plot_player_attribute(\n",
    "    player_index, df.iloc[player_index], list(player_skills.keys()))"
   ]
  },
  {
   "cell_type": "markdown",
   "metadata": {},
   "source": [
    "Radar Plot for player attribute's Details<br>\n",
    "function plot radar diagram for any player, need player skills and player name.<br>\n",
    "noinspection PyTypeChecker"
   ]
  },
  {
   "cell_type": "code",
   "execution_count": null,
   "metadata": {
    "pycharm": {
     "is_executing": true
    }
   },
   "outputs": [],
   "source": [
    "def plot_player_radar(skills, player_name):\n",
    "    fig = go.Figure()\n",
    "    fig.add_trace(\n",
    "        go.Scatterpolar(\n",
    "            r=list(skills.values()),\n",
    "            theta=list(skills.keys()),\n",
    "            fill=\"toself\",\n",
    "            name=player_name,\n",
    "            line_color=\"darkviolet\",\n",
    "        )\n",
    "    )\n",
    "    fig.update_layout(\n",
    "        polar=dict(radialaxis=dict(visible=False, range=[0, 100])), showlegend=True\n",
    "    )\n",
    "    fig.show()"
   ]
  },
  {
   "cell_type": "markdown",
   "metadata": {},
   "source": [
    "draw attribute Details radar chart for RONALDO."
   ]
  },
  {
   "cell_type": "code",
   "execution_count": null,
   "metadata": {
    "pycharm": {
     "is_executing": true
    }
   },
   "outputs": [],
   "source": [
    "player_index = 1\n",
    "player_skills = calculate_attribute(df, player_index)\n",
    "plot_player_radar(player_skills, df.iloc[player_index][\"Name\"])"
   ]
  },
  {
   "cell_type": "markdown",
   "metadata": {},
   "source": [
    "draw attribute Details radar chart for M.SALAH."
   ]
  },
  {
   "cell_type": "code",
   "execution_count": null,
   "metadata": {
    "pycharm": {
     "is_executing": true
    }
   },
   "outputs": [],
   "source": [
    "player_index = 26\n",
    "player_skills = calculate_attribute(df, player_index)\n",
    "plot_player_radar(player_skills, df.iloc[player_index][\"Name\"])"
   ]
  },
  {
   "cell_type": "markdown",
   "metadata": {},
   "source": [
    "Radar plot for player's skills.<br>\n",
    "select player, skills columns and convert it to numeric."
   ]
  },
  {
   "cell_type": "code",
   "execution_count": null,
   "metadata": {
    "pycharm": {
     "is_executing": true
    }
   },
   "outputs": [],
   "source": [
    "player_index = 0\n",
    "col = [\n",
    "    \"Crossing\",\n",
    "    \"Finishing\",\n",
    "    \"ShortPassing\",\n",
    "    \"SprintSpeed\",\n",
    "    \"Stamina\",\n",
    "    \"Strength\",\n",
    "    \"Vision\",\n",
    "    \"Acceleration\",\n",
    "    \"BallControl\",\n",
    "]\n",
    "observation = df.loc[player_index, col].astype(\"int64\")"
   ]
  },
  {
   "cell_type": "markdown",
   "metadata": {},
   "source": [
    "used to concatenate skills with its value."
   ]
  },
  {
   "cell_type": "code",
   "execution_count": null,
   "metadata": {
    "pycharm": {
     "is_executing": true
    }
   },
   "outputs": [],
   "source": [
    "categories = []\n",
    "for i in col:\n",
    "    categories.append(i + \": \" + str(int(observation[i])) + \"%\")"
   ]
  },
  {
   "cell_type": "markdown",
   "metadata": {},
   "source": [
    "plot MESSI skills radar.<br>\n",
    "noinspection PyRedeclaration"
   ]
  },
  {
   "cell_type": "code",
   "execution_count": null,
   "metadata": {
    "pycharm": {
     "is_executing": true
    }
   },
   "outputs": [],
   "source": [
    "fig = go.Figure()\n",
    "# noinspection PyTypeChecker\n",
    "fig.add_trace(\n",
    "    go.Scatterpolar(\n",
    "        r=observation,\n",
    "        theta=categories,\n",
    "        fill=\"toself\",\n",
    "        name=df.iloc[player_index][\"Name\"],\n",
    "        line_color=\"red\",\n",
    "    )\n",
    ")\n",
    "fig.update_layout(\n",
    "    polar=dict(radialaxis=dict(visible=False, range=[0, 100])), showlegend=True\n",
    ")\n",
    "fig.show()"
   ]
  },
  {
   "cell_type": "markdown",
   "metadata": {},
   "source": [
    "Show the best squad in the world by choosing Lineup.<br>\n",
    "player position in each line in playground."
   ]
  },
  {
   "cell_type": "code",
   "execution_count": null,
   "metadata": {
    "pycharm": {
     "is_executing": true
    }
   },
   "outputs": [],
   "source": [
    "position = {\n",
    "    \"defender\": [\"RB\", \"LB\", \"CB\", \"LCB\", \"RCB\", \"RWB\", \"RDM\", \"CDM\", \"LDM\", \"LWB\"],\n",
    "    \"midfielder\": [\"RM\", \"LM\", \"CM\", \"LCM\", \"RCM\", \"RAM\", \"CAM\", \"LAM\"],\n",
    "    \"attacker\": [\"RW\", \"RF\", \"CF\", \"LF\", \"LW\", \"RS\", \"ST\", \"LS\"],\n",
    "}\n",
    "lineup = [3, 4, 3]"
   ]
  },
  {
   "cell_type": "markdown",
   "metadata": {},
   "source": [
    "function that get best squad in the world based on your Lineup."
   ]
  },
  {
   "cell_type": "code",
   "execution_count": null,
   "metadata": {
    "pycharm": {
     "is_executing": true
    }
   },
   "outputs": [],
   "source": [
    "def get_best_squad(lineup):\n",
    "    best_squad = (\n",
    "        df[df.Position == \"GK\"].sort_values(\n",
    "            \"Overall\", ascending=False).iloc[0:1]\n",
    "    )\n",
    "    for j, k in zip(position.keys(), range(3)):\n",
    "        best = []\n",
    "        for i in position.get(j):\n",
    "            best.append(\n",
    "                df[df.Position == i]\n",
    "                .sort_values([\"Overall\", \"Potential\"], ascending=[False, False])\n",
    "                .iloc[0]\n",
    "            )\n",
    "        best = pd.DataFrame(best).sort_values(\n",
    "            [\"Overall\", \"Potential\"], ascending=[False, False]\n",
    "        )\n",
    "        best = best.iloc[0: lineup[k]]\n",
    "        best_squad = pd.concat([best_squad, best])\n",
    "    return best_squad"
   ]
  },
  {
   "cell_type": "markdown",
   "metadata": {},
   "source": [
    "get best squad on the world based on lineup which you select."
   ]
  },
  {
   "cell_type": "code",
   "execution_count": null,
   "metadata": {
    "pycharm": {
     "is_executing": true
    }
   },
   "outputs": [],
   "source": [
    "best_squad = get_best_squad(lineup)\n",
    "best_squad.reset_index(inplace=True)\n",
    "player_index = list(\n",
    "    best_squad.loc[:, [\"index\"]].values.reshape(\n",
    "        11,\n",
    "    )\n",
    ")\n",
    "best_squad.drop(\"index\", axis=1, inplace=True)\n",
    "print(best_squad)"
   ]
  },
  {
   "cell_type": "markdown",
   "metadata": {},
   "source": [
    "Plot the best squad on playground based on Lineup [3,4,3].<br>\n",
    "location of player on chart."
   ]
  },
  {
   "cell_type": "code",
   "execution_count": null,
   "metadata": {
    "pycharm": {
     "is_executing": true
    }
   },
   "outputs": [],
   "source": [
    "location_3_4_3 = {\n",
    "    0: [150, 80],\n",
    "    1: [150, 145],\n",
    "    2: [220, 145],\n",
    "    3: [80, 145],\n",
    "    4: [60, 300],\n",
    "    5: [150, 230],\n",
    "    6: [240, 300],\n",
    "    7: [150, 320],\n",
    "    8: [60, 400],\n",
    "    9: [150, 450],\n",
    "    10: [240, 400],\n",
    "}\n",
    "# Create figure\n",
    "fig = go.Figure()"
   ]
  },
  {
   "cell_type": "markdown",
   "metadata": {},
   "source": [
    "Constants"
   ]
  },
  {
   "cell_type": "code",
   "execution_count": null,
   "metadata": {
    "pycharm": {
     "is_executing": true
    }
   },
   "outputs": [],
   "source": [
    "img_width = 900  # 900\n",
    "img_height = 1200  # 1200\n",
    "scale_factor = 0.4"
   ]
  },
  {
   "cell_type": "markdown",
   "metadata": {},
   "source": [
    "add plot<br>\n",
    "noinspection PyTypeChecker"
   ]
  },
  {
   "cell_type": "code",
   "execution_count": null,
   "metadata": {
    "pycharm": {
     "is_executing": true
    }
   },
   "outputs": [],
   "source": [
    "fig.add_trace(\n",
    "    go.Scatter(\n",
    "        x=[0, img_width * scale_factor],\n",
    "        y=[0, img_height * scale_factor],\n",
    "        mode=\"markers\",\n",
    "        marker_opacity=0,\n",
    "    )\n",
    ")\n",
    "\n",
    "# Configure axes\n",
    "fig.update_xaxes(visible=False, range=[0, img_width * scale_factor])\n",
    "\n",
    "# disable y-axis visible\n",
    "fig.update_yaxes(visible=False, range=[\n",
    "                 0, img_height * scale_factor], scaleanchor=\"x\")\n",
    "\n",
    "# add player image\n",
    "for i in range(11):\n",
    "    img = Image.open(r\"..\\faces/\" + str(i) + \".png\")\n",
    "    fig.add_layout_image(\n",
    "        dict(\n",
    "            x=location_3_4_3[i][0],\n",
    "            y=location_3_4_3[i][1],\n",
    "            sizex=60,\n",
    "            sizey=60,\n",
    "            xref=\"x\",\n",
    "            yref=\"y\",\n",
    "            opacity=1.0,\n",
    "            layer=\"above\",\n",
    "            source=img,\n",
    "        )\n",
    "    )\n",
    "# Add background image\n",
    "img = Image.open(r\"..\\field.jpg\")\n",
    "fig.add_layout_image(\n",
    "    dict(\n",
    "        x=0,\n",
    "        sizex=img_width * scale_factor,\n",
    "        y=img_height * scale_factor,\n",
    "        sizey=img_height * scale_factor,\n",
    "        xref=\"x\",\n",
    "        yref=\"y\",\n",
    "        opacity=1.0,\n",
    "        layer=\"below\",\n",
    "        sizing=\"stretch\",\n",
    "        source=img,\n",
    "    )\n",
    ")\n",
    "# Configure other layout\n",
    "fig.update_layout(\n",
    "    width=img_width * scale_factor,\n",
    "    height=img_height * scale_factor,\n",
    "    margin={\"l\": 0, \"r\": 0, \"t\": 50, \"b\": 0},\n",
    "    title_font_size=15,\n",
    "    title_font_family=\"Dosis\",\n",
    "    title=(\n",
    "        {\n",
    "            \"text\": \"---Best Squad in The World for Lineup[3,4,3]---\",\n",
    "            \"y\": 0.95,\n",
    "            \"x\": 0.5,\n",
    "            \"xanchor\": \"center\",\n",
    "            \"yanchor\": \"top\",\n",
    "        }\n",
    "    ),\n",
    ")\n",
    "fig.show()\n"
   ]
  }
 ],
 "metadata": {
  "kernelspec": {
   "display_name": "Python 3 (ipykernel)",
   "language": "python",
   "name": "python3"
  },
  "language_info": {
   "codemirror_mode": {
    "name": "ipython",
    "version": 3
   },
   "file_extension": ".py",
   "mimetype": "text/x-python",
   "name": "python",
   "nbconvert_exporter": "python",
   "pygments_lexer": "ipython3",
   "version": "3.10.0"
  }
 },
 "nbformat": 4,
 "nbformat_minor": 2
}
